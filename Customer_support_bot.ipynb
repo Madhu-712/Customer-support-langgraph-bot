
!pip install langgraph langsmith langchain langchain_groq langchain_community
from langchain_core.tools import tool
import getpass
import os

if not os.environ.get("GROQ_API_KEY"):
    os.environ["GROQ_API_KEY"] = getpass.getpass("API key:\n")
from  langchain_groq import ChatGroq
llm=ChatGroq(model_name="Gemma2-9b-It")
llm

from langchain_core.tools import tool
import datetime

class OrderStatusManager:
    def __init__(self):
        self.order_statuses = {
            "12345": "Shipped",
            "67890": "Processing",
            "11223": "Delivered"
        }
        self.order_price = {
            "12345" : "500$",
            "67890" : "79$",
            "11223" : "900$"
        }
        self.order_shipped={
            "12345" : "22/2/25",
            "67890" : "24/2/25",
            "11223" : "2/2/25"
        }
           # Store original prices for resetting
        self.original_prices = self.order_price.copy()

    def get_total_price(self, order_id: str) -> str:
        """Calculates total sum  price for an order"""
        return self.orderprice.get(order_id,"total sum price")

    def get_order_status(self, order_id: str) -> str:
        """Fetches the status of a given order ID."""
        return self.order_statuses.get(order_id, "Order ID not found.")

    def initiate_return(self, order_id: str, reason: str) -> str:
        """Initiates a return for a given order ID with a specified reason.
        Return not initiated if shipping above 10 days.
        """
        if order_id in ["12345", "67890", "11223"]:
            # Get shipping date and calculate days since shipped
            shipping_date_str = self.order_shipped.get(order_id)

            if shipping_date_str:  # Check if shipping date exists for this order
                shipping_date = datetime.datetime.strptime(shipping_date_str, "%d/%m/%y").date()
                days_since_shipped = (datetime.date.today() - shipping_date).days  # Get current date

                if days_since_shipped > 10:
                    return f"Return cannot be initiated for order {order_id} as it has been more than 10 days since shipping."

            # Proceed with return initiation if within 10 days
            self.order_statuses[order_id] = "Return Initiated"
            # Calculate the penalty (2% deduction)
            original_price = float(self.order_price[order_id].rstrip("$"))
            penalty = original_price * 0.02
            new_price = original_price - penalty
            self.order_price[order_id] = f"{new_price:.2f}$"  # Update price with penalty
            return f"Return initiated for order {order_id} due to: {reason}. Price after penalty is {self.order_price[order_id]}."
        else:
            return "Order ID not found. Cannot initiate return."



    def cancel_return(self, order_id: str, reason: str) -> str:
        """Cancel return for an order ID by stating reason - changed mind."""
        if order_id in self.order_statuses:
            if self.order_statuses[order_id] == "Return Initiated":
                self.order_statuses[order_id] = self.order_statuses.get(order_id, "Cancelled Order") # Reset status (assuming original status is unknown)
                                                                                                     # you might want to store original status before return initiated.
                # Reset the price (remove penalty) - If you store original price use that instead.
                # assuming original price was order_price before penalty
                self.order_price[order_id] = self.order_price.get(order_id, "order_price") # Reset price

                return f"Return cancellation initiated for order {order_id} due to: {reason}. Price reset to {self.order_price[order_id]}."
            else:
                return f"Order {order_id} is not in 'Return Initiated' status. Cannot cancel return."
        else:
            return "Order ID not found. Cannot cancel return."

# Create an instance of OrderStatusManager
order_manager = OrderStatusManager()

# Wrap the methods as tools
get_total_price_tool = tool(order_manager.get_total_price)
get_order_status_tool = tool(order_manager.get_order_status)
initiate_return_tool = tool(order_manager.initiate_return)
cancel_return_tool = tool(order_manager.cancel_return) # Add the cancel_return tool
from langchain_core.messages import BaseMessage, HumanMessage, AIMessage, SystemMessage  # Add this line to import necessary classes
from langchain_core.messages import BaseMessage, HumanMessage, AIMessage, SystemMessage  # Add this line to import necessary classes

from langgraph.graph import MessagesState  # This is the crucial line to import MessagesState


from langgraph.graph import MessagesState
from langchain_core.messages import HumanMessage, ToolMessage
from langgraph.graph import START,END, StateGraph
from langgraph.prebuilt import tools_condition, ToolNode
from langchain_groq import ChatGroq
from langgraph.checkpoint.memory import MemorySaver  # Import MemorySaver

# Assuming you have order_manager, get_order_status_tool, initiate_return_tool defined

llm = ChatGroq(model="Llama3-8b-8192")

# Define your tools list with the updated tools
tools = [get_order_status_tool, initiate_return_tool,get_total_price_tool,cancel_return_tool]

llm_with_tools = llm.bind_tools(tools)
def assistant(state: MessagesState):
    """Use the LLM to decide the next step."""
    # Ensure llm_with_tools is defined and available in this scope
    return {"messages": [llm_with_tools.invoke(state["messages"])]}

def check_return_conditions(state: MessagesState) -> str:
    """Decide whether to take action based on return conditions."""
    messages = state["messages"]

    # Check for return-related keywords and conditions
    for message in messages:
        if "return" in message.content.lower():
            # Check if ship date is within 10 days
            if "ship date" in message.content.lower():
                try:
                    # Attempt to extract ship date from the message
                    ship_date_str = message.content.lower().split("ship date")[1].strip()[:10]  # Assuming date format
                    ship_date = datetime.datetime.strptime(ship_date_str, "%Y-%m-%d").date()
                    days_since_shipped = (datetime.date.today() - ship_date).days

                    if days_since_shipped <= 10:
                        return "initiate_return"  # Route to initiate return node
                except (ValueError, IndexError):
                    pass  # Ignore if ship date extraction fails

            # Check if price update is mentioned
            if "price update" in message.content.lower():
                return "update_price"  # Route to update price node

    # Default: Proceed to END if no return conditions are met
    return END

# ... (add necessary nodes for initiate_return and update_price) ...

#builder.add_conditional_edges("assistant", check_return_conditions)
# Graph
builder = StateGraph(MessagesState)
# Define nodes
builder.add_node("assistant", assistant)
builder.add_node("tools", ToolNode(tools))

# Define edges
builder.add_edge(START, "assistant")
builder.add_conditional_edges("assistant", tools_condition)
builder.add_conditional_edges("assistant", check_return_conditions)
builder.add_edge("tools", "assistant")

# Initialize memory to persist state between graph runs
checkpointer = MemorySaver()
# Compile the graph with the checkpointer
graph = builder.compile(checkpointer=checkpointer)  # Pass checkpointer here
# Now, run the workflow with the user input
user_input = "What is the current status of order 12345."
config = {"configurable": {"thread_id": "1"}}

events = graph.stream(
    {"messages": [("user", user_input)]}, config, stream_mode="values"
)

for event in events:
    event["messages"][-1].pretty_print()
#let's check return condition with price update

# Now, run the workflow with the user input
user_input = "I want to  return the order 12345."
config = {"configurable": {"thread_id": "1"}}

events = graph.stream(
    {"messages": [("user", user_input)]}, config, stream_mode="values"
)

for event in events:
    event["messages"][-1].pretty_print()
#let's check cancel condition
user_input = " I want to cancel return for order 12345."
config = {"configurable": {"thread_id": "1"}}

events = graph.stream(
    {"messages": [("user", user_input)]}, config, stream_mode="values"
)

for event in events:
    event["messages"][-1].pretty_print()
#let's check updated status of order
# Now, run the workflow with the user input
user_input = "I want order 11223 to return.Is it eligible ?"
config = {"configurable": {"thread_id": "1"}}

events = graph.stream(
    {"messages": [("user", user_input)]}, config, stream_mode="values"
)

for event in events:
    event["messages"][-1].pretty_print()
